{
 "cells": [
  {
   "cell_type": "markdown",
   "metadata": {},
   "source": [
    "# Search for best parameters for Random Forest classifier"
   ]
  },
  {
   "cell_type": "markdown",
   "metadata": {},
   "source": [
    "## Read data"
   ]
  },
  {
   "cell_type": "code",
   "execution_count": null,
   "metadata": {},
   "outputs": [],
   "source": [
    "# Pandas is used for data manipulation\n",
    "import pandas as pd\n",
    "time='80_100'\n",
    "\n",
    "# Read in data as a dataframe\n",
    "features = pd.read_csv('../features/features_training1/features_{}.csv'.format(time))\n",
    "\n",
    "import numpy as np\n",
    "import seaborn as sns\n",
    "import matplotlib.pyplot as plt\n",
    "# One Hot Encoding\n",
    "features_num=features.to_numpy()\n",
    "features[:] = np.nan_to_num(features_num)\n",
    "np.where(pd.isnull(features_num))\n",
    "features.describe(include='all')\n",
    "\n",
    "# Extract features and labels and print feature names\n",
    "labels = features['quality']\n",
    "features = features.drop('quality', axis = 1)\n",
    "\n",
    "labels[1:6]\n",
    "names=features.columns\n",
    "print(names)\n",
    "\n",
    "y = labels.map({'native':1,\"non-native\":0})\n",
    "x = features.values\n",
    "# Convert to numpy arrays\n",
    "features = np.array(x)\n",
    "labels = np.array(y)"
   ]
  },
  {
   "cell_type": "markdown",
   "metadata": {},
   "source": [
    "## Specify training and test sets"
   ]
  },
  {
   "cell_type": "code",
   "execution_count": null,
   "metadata": {},
   "outputs": [],
   "source": [
    "# Training and Testing Sets\n",
    "from sklearn.model_selection import train_test_split\n",
    "\n",
    "train_features, test_features, train_labels, test_labels = train_test_split(features, labels, \n",
    "                                                                            test_size = 0.25, random_state = 42)\n",
    "\n"
   ]
  },
  {
   "cell_type": "markdown",
   "metadata": {},
   "source": [
    "## Set a base model with RF classifier "
   ]
  },
  {
   "cell_type": "code",
   "execution_count": null,
   "metadata": {},
   "outputs": [],
   "source": [
    "from sklearn.ensemble import RandomForestClassifier\n",
    "\n",
    "base_model = RandomForestClassifier(n_estimators = 10,random_state = 42)\n",
    "\n",
    "from pprint import pprint\n",
    "\n",
    "# Look at parameters used by our current forest\n",
    "print('Parameters currently in use:\\n')\n",
    "pprint(base_model.get_params())\n",
    "\n",
    "from sklearn import metrics\n",
    "base_model.fit(train_features,train_labels);\n",
    "pred_labels=base_model.predict(test_features)\n",
    "base_accuracy=metrics.accuracy_score(test_labels, pred_labels)\n",
    "print(\"Base model Accuracy:\",metrics.accuracy_score(test_labels, pred_labels))\n"
   ]
  },
  {
   "cell_type": "markdown",
   "metadata": {},
   "source": [
    "## Random Search with Cross Validation"
   ]
  },
  {
   "cell_type": "code",
   "execution_count": null,
   "metadata": {},
   "outputs": [],
   "source": [
    "from sklearn.model_selection import RandomizedSearchCV\n",
    "\n",
    "# Number of trees in random forest\n",
    "n_estimators = [int(x) for x in np.linspace(start = 200, stop = 2000, num = 10)]\n",
    "# Number of features to consider at every split\n",
    "max_features = ['auto', 'sqrt']\n",
    "# Maximum number of levels in tree\n",
    "max_depth = [int(x) for x in np.linspace(10, 110, num = 11)]\n",
    "max_depth.append(None)\n",
    "# Minimum number of samples required to split a node\n",
    "min_samples_split = [2, 5, 10]\n",
    "# Minimum number of samples required at each leaf node\n",
    "min_samples_leaf = [1, 2, 4]\n",
    "# Method of selecting samples for training each tree\n",
    "bootstrap = [True, False]\n",
    "\n",
    "# Create the random grid\n",
    "random_grid = {'n_estimators': n_estimators,\n",
    "               'max_features': max_features,\n",
    "               'max_depth': max_depth,\n",
    "               'min_samples_split': min_samples_split,\n",
    "               'min_samples_leaf': min_samples_leaf,\n",
    "               'bootstrap': bootstrap}\n",
    "\n",
    "pprint(random_grid)\n",
    "\n",
    "# Use the random grid to search for best hyperparameters\n",
    "# First create the base model to tune\n",
    "rf = RandomForestClassifier(random_state = 42)\n",
    "# Random search of parameters, using 3 fold cross validation, \n",
    "# search across 100 different combinations, and use all available cores\n",
    "rf_random = RandomizedSearchCV(estimator=rf, param_distributions=random_grid,\n",
    "                              n_iter = 100, scoring='neg_mean_absolute_error', \n",
    "                              cv = 3, verbose=2, random_state=42, n_jobs=-1,\n",
    "                              return_train_score=True)\n",
    "\n",
    "# Fit the random search model\n",
    "rf_random.fit(train_features, train_labels);\n",
    "\n",
    "rf_random.best_params_"
   ]
  },
  {
   "cell_type": "markdown",
   "metadata": {},
   "source": [
    "### Evaluate the Best Random Search Model"
   ]
  },
  {
   "cell_type": "code",
   "execution_count": null,
   "metadata": {},
   "outputs": [],
   "source": [
    "best_random = rf_random.best_estimator_\n",
    "best_random.fit(train_features,train_labels);\n",
    "pred_labels=best_random.predict(test_features)\n",
    "random_accuracy=metrics.accuracy_score(test_labels, pred_labels)\n",
    "print(\"Best random model Accuracy:\",metrics.accuracy_score(test_labels, pred_labels))\n",
    "print('Improvement of {:0.2f}%.'.format( 100 * (random_accuracy - base_accuracy) / base_accuracy))"
   ]
  },
  {
   "cell_type": "markdown",
   "metadata": {},
   "source": [
    "## Grid Search \n",
    "\n",
    "We can now perform grid search building on the result from the random search. \n",
    "We will test a range of hyperparameters around the best values returned by random search. "
   ]
  },
  {
   "cell_type": "code",
   "execution_count": null,
   "metadata": {},
   "outputs": [],
   "source": [
    "from sklearn.model_selection import GridSearchCV\n",
    "# Create the parameter grid based on the results of random search \n",
    "param_grid = {\n",
    "    'bootstrap': [True],\n",
    "    'max_depth': [5, 10,  50,  110],\n",
    "    'min_samples_leaf': [1, 3,  5],\n",
    "    'min_samples_split': [2,  8, 12],\n",
    "    'n_estimators': [100, 300, 1000, 1500],\n",
    "    'max_features' : ['auto', 'sqrt'],\n",
    "    'oob_score' : [ True],\n",
    "     'warm_start' : [False, True]\n",
    "}\n",
    "\n",
    "# Create a base model\n",
    "rf = RandomForestClassifier(random_state = 42)\n",
    "\n",
    "# Instantiate the grid search model\n",
    "grid_search = GridSearchCV(estimator = rf, param_grid = param_grid, \n",
    "                          cv = 5, n_jobs = -1, verbose = 2, return_train_score=True)\n",
    "\n",
    "# Fit the grid search to the data\n",
    "gid_search.fit(train_features, train_labels);\n",
    "grid_search.best_params_\n",
    "\n"
   ]
  },
  {
   "cell_type": "markdown",
   "metadata": {},
   "source": [
    "### Test RF classifier with the best parameters"
   ]
  },
  {
   "cell_type": "code",
   "execution_count": null,
   "metadata": {},
   "outputs": [],
   "source": [
    "rf_param = RandomForestClassifier(bootstrap= True, max_depth=50, max_features='auto', min_samples_leaf=1, min_samples_split=2, n_estimators = 1000,oob_score= True,\n",
    "                                  random_state = 42)\n",
    "\n",
    "rf_param.fit(train_features, train_labels);\n",
    "\n",
    "pred_labels_best=rf.param.predict(test_features)\n",
    "best_accuracy=metrics.accuracy_score(test_labels, pred_labels_best)\n",
    "grid_accuracy=metrics.accuracy_score(test_labels, pred_labels)\n",
    "print(\"Best Grid model Accuracy:\",metrics.accuracy_score(test_labels, pred_labels))"
   ]
  },
  {
   "cell_type": "markdown",
   "metadata": {},
   "source": [
    "#### Evaluate the Best Model from Grid Search"
   ]
  },
  {
   "cell_type": "code",
   "execution_count": null,
   "metadata": {},
   "outputs": [],
   "source": [
    "pred_labels_best=rf_param.predict(test_features)\n",
    "best_accuracy=metrics.accuracy_score(test_labels, pred_labels_best)\n",
    "print(\"Base model Accuracy:\",metrics.accuracy_score(test_labels, pred_labels_best))\n",
    "print(rf_param.oob_score_)\n",
    "d = grid_search.best_estimator_\n",
    "grid_accuracy =metrics.accuracy_score(test_labels, pred_labels)\n",
    "print(\"Best Grid model Accuracy:\",metrics.accuracy_score(test_labels, pred_labels))\n",
    "print(best_grid.oob_score_)\n",
    "best_grid = grid_search.best_estimator_\n",
    "grid_accuracy =metrics.accuracy_score(test_labels, pred_labels)\n",
    "print(\"Best Grid model Accuracy:\",metrics.accuracy_score(test_labels, pred_labels))\n",
    "print(best_grid.oob_score_)"
   ]
  }
 ],
 "metadata": {
  "kernelspec": {
   "display_name": "ml",
   "language": "python",
   "name": "ml"
  },
  "language_info": {
   "codemirror_mode": {
    "name": "ipython",
    "version": 3
   },
   "file_extension": ".py",
   "mimetype": "text/x-python",
   "name": "python",
   "nbconvert_exporter": "python",
   "pygments_lexer": "ipython3",
   "version": "3.7.10"
  }
 },
 "nbformat": 4,
 "nbformat_minor": 4
}
