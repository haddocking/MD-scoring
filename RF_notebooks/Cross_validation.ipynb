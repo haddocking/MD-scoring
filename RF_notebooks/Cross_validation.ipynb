{
 "cells": [
  {
   "cell_type": "markdown",
   "id": "operational-james",
   "metadata": {},
   "source": [
    "# Cross validation of training set "
   ]
  },
  {
   "cell_type": "markdown",
   "id": "fifty-prince",
   "metadata": {},
   "source": [
    "## Open features file"
   ]
  },
  {
   "cell_type": "code",
   "execution_count": null,
   "id": "second-intelligence",
   "metadata": {},
   "outputs": [],
   "source": [
    "\n",
    "# Pandas is used for data manipulation\n",
    "import pandas as pd\n",
    "import numpy as np\n",
    "import seaborn as sns\n",
    "import matplotlib.pyplot as plt\n",
    "\n",
    "time='80_100'\n",
    "# Read in data as pandas dataframe and display first 5 rows\n",
    "features = pd.read_csv('../features/features_training1//features_{}.csv'.format(time))\n",
    "features_num=features.to_numpy()\n",
    "features[:] = np.nan_to_num(features_num)\n",
    "np.where(pd.isnull(features_num))\n",
    "RSEED=50\n",
    "#Check the start of the file\n",
    "features.head(7)\n",
    "#features.describe(include='all')"
   ]
  },
  {
   "cell_type": "markdown",
   "id": "brazilian-firewall",
   "metadata": {},
   "source": [
    "## Plot the distribution of features for native and non-native models"
   ]
  },
  {
   "cell_type": "code",
   "execution_count": null,
   "id": "exotic-while",
   "metadata": {},
   "outputs": [],
   "source": [
    "# sklearn provides the iris species as integer values since this is required for classification\n",
    "# here we're just adding a column with the species names to the dataframe for visualisation\n",
    "\n",
    "#features['quality'] = np.array([features[i] for i in features)\n",
    "colors = ['#91174A','#0072B2']\n",
    "sns.set(font_scale=3, context='notebook') \n",
    "sns.pairplot(features, hue='quality', palette=colors, height=4)\n",
    "g = sns.PairGrid(features, hue='quality',  height=4)\n",
    "g.map_diag(sns.kdeplot)\n",
    "g.map_offdiag(sns.kdeplot, n_levels=6);\n",
    "\n"
   ]
  },
  {
   "cell_type": "markdown",
   "id": "guilty-worse",
   "metadata": {},
   "source": [
    "### Define Features and Labels and Convert Data to Arrays"
   ]
  },
  {
   "cell_type": "code",
   "execution_count": null,
   "id": "improved-photograph",
   "metadata": {},
   "outputs": [],
   "source": [
    "# Use numpy to convert to arrays\n",
    "import numpy as np\n",
    "\n",
    "\n",
    "labels = features['quality']\n",
    "\n",
    "# Remove the labels from the features\n",
    "# axis 1 refers to the columns\n",
    "features= features.drop('quality',axis = 1)\n",
    "\n",
    "\n",
    "# Saving feature names for later use\n",
    "feature_list = list(features.columns)\n",
    "features[features==np.inf]=np.nan\n",
    "features.fillna(features.mean(), inplace=True)\n",
    "y = labels.map({'native':1,\"non-native\":0})\n",
    "x = features.values"
   ]
  },
  {
   "cell_type": "markdown",
   "id": "wrong-function",
   "metadata": {},
   "source": [
    "## Specify the Random Forest classifier"
   ]
  },
  {
   "cell_type": "code",
   "execution_count": null,
   "id": "awful-helicopter",
   "metadata": {
    "scrolled": true
   },
   "outputs": [],
   "source": [
    "# Using Skicit-learn to split data into training and testing sets\n",
    "from sklearn.model_selection import train_test_split\n",
    "from sklearn.ensemble import RandomForestClassifier\n",
    "\n",
    "\n",
    "rf = RandomForestClassifier(bootstrap= True, max_depth=50, max_features='auto', min_samples_leaf=1, min_samples_split=2, n_estimators = 1000,oob_score= True,\n",
    "                                  random_state = 42)\n",
    "\n",
    "# Split the data into training and testing sets\n",
    "train_features, test_features, train_labels, test_labels = train_test_split(x, y, test_size = 0.25,\n",
    "                                                                           random_state = 42)"
   ]
  },
  {
   "cell_type": "markdown",
   "id": "blank-camera",
   "metadata": {},
   "source": [
    "### Define plotting of ROC curve"
   ]
  },
  {
   "cell_type": "code",
   "execution_count": null,
   "id": "compound-circumstances",
   "metadata": {},
   "outputs": [],
   "source": [
    "import matplotlib.pyplot as plt\n",
    "from sklearn.ensemble import RandomForestClassifier\n",
    "from sklearn.metrics import roc_curve, auc\n",
    "# Plot an ROC. pred - the predictions, y - the expected output.\n",
    "def plot_roc(pred,y):\n",
    "    fpr, tpr, _ = roc_curve(y, pred)\n",
    "    roc_auc = auc(fpr, tpr)\n",
    "    plt.figure()\n",
    "    plt.plot(fpr, tpr, label='ROC curve (area = %0.2f)' % roc_auc)\n",
    "    plt.plot([0, 1], [0, 1], 'k--')\n",
    "    plt.xlim([0.0, 1.0])\n",
    "    plt.ylim([0.0, 1.05])\n",
    "    plt.xlabel('False Positive Rate')\n",
    "    plt.ylabel('True Positive Rate')\n",
    "    plt.title('Receiver Operating Characteristic (ROC)')\n",
    "    plt.legend(loc=\"lower right\")\n",
    "    plt.show()\n",
    "\n",
    "\n"
   ]
  },
  {
   "cell_type": "markdown",
   "id": "interpreted-opinion",
   "metadata": {},
   "source": [
    "## Run the Random Forest classifier and plot the ROC curve"
   ]
  },
  {
   "cell_type": "code",
   "execution_count": null,
   "id": "mature-gamma",
   "metadata": {},
   "outputs": [],
   "source": [
    "print(__doc__)\n",
    "sns.set(style=\"white\" )\n",
    "\n",
    "\n",
    "from sklearn.model_selection import RepeatedKFold\n",
    "\n",
    "\n",
    "import numpy as np\n",
    "import matplotlib.pyplot as plt\n",
    "from scipy import interp\n",
    "from sklearn.model_selection import KFold\n",
    "\n",
    "from sklearn.model_selection import LeavePOut\n",
    "from sklearn import svm, datasets\n",
    "from sklearn.metrics import auc\n",
    "from sklearn.metrics import roc_curve\n",
    "from sklearn.model_selection import StratifiedKFold\n",
    "\n",
    "\n",
    "# #############################################################################\n",
    "# Classification and ROC analysis\n",
    "\n",
    "# Run classifier with cross-validation and plot ROC curves\n",
    "cv = StratifiedKFold(n_splits=100, random_state=26124)\n",
    "\n",
    "\n",
    "\n",
    "fig, ax = plt.subplots()\n",
    "tprs = []\n",
    "aucs = []\n",
    "mean_fpr = np.linspace(0, 1, 100)\n",
    "\n",
    "i = 0\n",
    "for train, test in cv.split(x, y):\n",
    "     \n",
    "    probas_ = rf.fit(x[train], y[train]).predict_proba(x[test])\n",
    "    # Compute ROC curve and area the curve\n",
    "    fpr, tpr, thresholds = roc_curve(y[test], probas_[:, 1])\n",
    "    tprs.append(interp(mean_fpr, fpr, tpr))\n",
    "    tprs[-1][0] = 0.0\n",
    "    roc_auc = auc(fpr, tpr)\n",
    "    aucs.append(roc_auc)\n",
    "    plt.plot(fpr, tpr, lw=1, alpha=0.1,\n",
    "             )\n",
    "\n",
    "    i += 1\n",
    "plt.plot([0, 1], [0, 1], linestyle='--', lw=2, color='r',\n",
    "         label='Luck', alpha=1)\n",
    "\n",
    "mean_tpr = np.mean(tprs, axis=0)\n",
    "mean_tpr[-1] = 1.0\n",
    "mean_auc = auc(mean_fpr, mean_tpr)\n",
    "std_auc = np.std(aucs)\n",
    "plt.plot(mean_fpr, mean_tpr, color='b',\n",
    "         label=r'Mean ROC (AUC = %0.2f $\\pm$ %0.2f)' % (mean_auc, std_auc),\n",
    "         lw=2, alpha=1)\n",
    "\n",
    "std_tpr = np.std(tprs, axis=0)\n",
    "tprs_upper = np.minimum(mean_tpr + std_tpr, 1)\n",
    "tprs_lower = np.maximum(mean_tpr - std_tpr, 0)\n",
    "plt.fill_between(mean_fpr, tprs_lower, tprs_upper, color='grey', alpha=.1,\n",
    "                 label=r'$\\pm$ 1 std. dev.')\n",
    "\n",
    "plt.xlim([-0.05, 1.05])\n",
    "plt.ylim([-0.05, 1.05])\n",
    "plt.xlabel('False Positive Rate', fontsize=14)\n",
    "plt.ylabel('True Positive Rate', fontsize=14)\n",
    "plt.title('Receiver operating characteristic example', fontsize=14)\n",
    "plt.legend(loc=\"lower right\", fontsize=14)\n",
    "plt.xticks(fontsize=14)\n",
    "plt.yticks(fontsize=14)\n",
    "\n"
   ]
  },
  {
   "cell_type": "markdown",
   "id": "innovative-liberia",
   "metadata": {},
   "source": [
    "## Extract Feature Importances"
   ]
  },
  {
   "cell_type": "code",
   "execution_count": null,
   "id": "amazing-philip",
   "metadata": {},
   "outputs": [],
   "source": [
    "\n",
    "\n",
    "# Get numerical feature importances\n",
    "importances = list(rf.feature_importances_)\n",
    "\n",
    "# List of tuples with variable and importance\n",
    "feature_importances = [(feature, round(importance, 2)) for feature, importance in zip(feature_list, importances)]\n",
    "\n",
    "# Sort the feature importances by most important first\n",
    "feature_importances = sorted(feature_importances, key = lambda x: x[1], reverse = True)\n",
    "\n",
    "# Print out the feature and importances \n",
    "[print('Variable: {:20} Importance: {}'.format(*pair)) for pair in feature_importances];\n",
    "\n",
    "# list of x locations for plotting\n",
    "x_values = list(range(len(importances)))\n",
    "\n",
    "# Make a bar chart\n",
    "plt.bar(x_values, importances, orientation = 'vertical')\n",
    "\n",
    "# Tick labels for x axis\n",
    "plt.xticks(x_values, feature_list, rotation='vertical',fontsize=15)\n",
    "plt.yticks(fontsize=15)\n",
    "\n",
    "# Axis labels and title\n",
    "plt.ylabel('Importance', fontsize=20); plt.xlabel('Variable', fontsize=20); plt.title('Variable Importances time = {}ns'.format(time), fontsize=25); \n"
   ]
  }
 ],
 "metadata": {
  "kernelspec": {
   "display_name": "ml",
   "language": "python",
   "name": "ml"
  },
  "language_info": {
   "codemirror_mode": {
    "name": "ipython",
    "version": 3
   },
   "file_extension": ".py",
   "mimetype": "text/x-python",
   "name": "python",
   "nbconvert_exporter": "python",
   "pygments_lexer": "ipython3",
   "version": "3.7.10"
  }
 },
 "nbformat": 4,
 "nbformat_minor": 5
}
